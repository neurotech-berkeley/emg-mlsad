{
 "cells": [
  {
   "cell_type": "code",
   "execution_count": 1323,
   "metadata": {},
   "outputs": [
    {
     "name": "stdout",
     "output_type": "stream",
     "text": [
      "\n",
      ">> Select file to analyze:\n",
      "\n",
      "   0 : 0225_arjun.npz\n",
      "   1 : 0210_second.npz\n",
      "   2 : 0210_first.npz\n",
      "\n",
      "OK, opening:  0210_first.npz\n"
     ]
    }
   ],
   "source": [
    "import csv\n",
    "import numpy as np\n",
    "import pandas as pd\n",
    "import matplotlib.pyplot as plt\n",
    "import subprocess\n",
    "import mne\n",
    "import mne_qt_browser\n",
    "from scipy.stats import skew, kurtosis\n",
    "\n",
    "# execute ls, sort files by date created\n",
    "output = subprocess.run([\"ls -t ../data_named\"], stdout=subprocess.PIPE, shell=True, text=True)\n",
    "# show only the last 5 files, line by line\n",
    "files = output.stdout.split(\"\\n\")[:-1][:5]\n",
    "filename = None\n",
    "i = 0\n",
    "print(\"\\n>> Select file to analyze:\\n\")\n",
    "for file in files:\n",
    "    print(\"  \", i, \":\", file)\n",
    "    i += 1\n",
    "index = input(\"\\n>> \")\n",
    "if index == \"\":\n",
    "    index = 0 # if no input, default to the most recent file\n",
    "    filename = files[index]\n",
    "    print(\"\\nOK, most recent file: \", filename)\n",
    "else:\n",
    "    index = int(index)\n",
    "    filename = files[index]\n",
    "    print(\"\\nOK, opening: \", filename)"
   ]
  },
  {
   "cell_type": "code",
   "execution_count": 1324,
   "metadata": {},
   "outputs": [],
   "source": [
    "import scipy.signal as signal\n",
    "import scipy.stats as stats\n",
    "\n",
    "class DataBuilder:\n",
    "    def __init__(self, sfreq):\n",
    "        self.sfreq = sfreq\n",
    "\n",
    "    def load_data(self, data_path):\n",
    "        # Load the .npz file\n",
    "        data = np.load(data_path, allow_pickle=True)\n",
    "        labels = []\n",
    "        windows = []\n",
    "        for key in data.files:\n",
    "            label = data[key].item()['label']\n",
    "            window = data[key].item()['data']\n",
    "            labels.append(label)\n",
    "            windows.append(window)\n",
    "        # dropping the first window because it's \"rest\"\n",
    "        # drop the last window too\n",
    "        return windows[1:-1], labels[1:-1]\n",
    "    \n",
    "    def load_window(self, data_path, index):\n",
    "        # Load the .npz file\n",
    "        windows, labels = self.load_data(data_path)\n",
    "        windows = self.preprocess_data(windows)\n",
    "        return windows[index], labels[index]\n",
    "\n",
    "    def preprocess_data(self, windows):\n",
    "        # remove the first two columns of each window (millis and hall sensor)\n",
    "        processed_windows = []\n",
    "        for window in windows:\n",
    "            window = np.delete(window, [0,1], axis=1)\n",
    "            processed_windows.append(window)\n",
    "        \n",
    "        print(\"Printing some stats!\\n====================\")\n",
    "        print(\"Number of samples:\", len(processed_windows))\n",
    "        print(\"Number of channels:\", len(processed_windows[0][0]))\n",
    "        print(\"====================\\n\")\n",
    "\n",
    "        return processed_windows\n",
    "    \n",
    "    def create_feature_vector(self, window):\n",
    "        # window has shape samples x channels\n",
    "        features = []\n",
    "        print(\"Window shape:\", window.shape)\n",
    "        for channel in window.T:\n",
    "            # extract mean and std\n",
    "            mean = np.mean(channel)\n",
    "            std = np.std(channel)\n",
    "\n",
    "            # demean and normalize\n",
    "            channel = channel - np.mean(channel)\n",
    "            channel = channel / np.std(channel)\n",
    "\n",
    "            # calculate features\n",
    "            kurtosis = stats.kurtosis(channel)\n",
    "            skew = stats.skew(channel)\n",
    "            # find peaks\n",
    "            peaks, _ = signal.find_peaks(channel)\n",
    "            num_peaks = len(peaks)\n",
    "            # find zero crossings\n",
    "            zero_crossings = np.where(np.diff(np.sign(channel)))[0]\n",
    "            num_zero_crossings = len(zero_crossings)\n",
    "\n",
    "            # IEMG\n",
    "            iemg = np.sum(np.abs(channel))\n",
    "            # print(\"IEMG:\", iemg)\n",
    "\n",
    "            # MAV\n",
    "            mav = np.mean(np.abs(channel))\n",
    "            # print(\"MAV:\", mav)\n",
    "\n",
    "            # SSI\n",
    "            ssi = np.sum(np.square(channel))\n",
    "            # print(\"SSI:\", ssi)\n",
    "\n",
    "            # RMS\n",
    "            rms = np.sqrt(np.mean(np.square(channel)))\n",
    "            # print(\"RMS:\", rms)\n",
    "\n",
    "            # VAR\n",
    "            var = np.var(channel)\n",
    "            # print(\"VAR:\", var)\n",
    "\n",
    "            # Myopulse Percentage Rate\n",
    "            t_mmp = 0.1\n",
    "            mmp = np.sum(np.abs(channel) > t_mmp) / len(channel)\n",
    "            # print(\"MMP:\", mmp)\n",
    "\n",
    "            # Waveform Length\n",
    "            wl = np.sum(np.abs(np.diff(channel)))\n",
    "            # print(\"WL:\", wl)\n",
    "\n",
    "            # DAMV\n",
    "            damv = np.mean(np.abs(np.diff(channel)))\n",
    "            # print(\"DAMV:\", damv)\n",
    "\n",
    "            # M2\n",
    "            m2 = np.sum(np.square(np.diff(channel)))\n",
    "            # print(\"M2:\", m2)\n",
    "\n",
    "            # DVARV\n",
    "            dvarv = np.mean(np.square(np.diff(channel)))\n",
    "            # print(\"DVARV:\", dvarv)\n",
    "\n",
    "            # DASDV\n",
    "            dasdv = np.sqrt(np.mean(dvarv))\n",
    "            # print(\"DASDV:\", dasdv)\n",
    "\n",
    "            # WAMP\n",
    "            t_wamp = 0.1\n",
    "            wamp = np.sum(np.abs(np.diff(channel)) > t_wamp)\n",
    "            # print(\"WAMP:\", wamp)\n",
    "\n",
    "            # inegerated absolute of second derivative\n",
    "            iasd = np.sum(np.abs(np.diff(np.diff(channel))))\n",
    "\n",
    "            # integrated absolute third derivative\n",
    "            iatd = np.sum(np.abs(np.diff(np.diff(np.diff(channel)))))\n",
    "\n",
    "            # integerated exponential of absolute value\n",
    "            # ieav = np.sum(np.exp(np.abs(channel)))\n",
    "            # print(\"IEAV:\", ieav)\n",
    "\n",
    "            # integerated absolute log value\n",
    "            # ialv = np.sum(np.log(np.abs(channel) + 0.1))\n",
    "            # print(\"IALV:\", ialv)\n",
    "            # print(np.min(channel))\n",
    "            # print(np.max(channel))\n",
    "            # print(np.isnan(channel).any())\n",
    "\n",
    "            # integrated exponential\n",
    "            ie = np.sum(np.exp(channel))\n",
    "\n",
    "            features.append(kurtosis)\n",
    "            features.append(skew)\n",
    "            features.append(num_peaks)\n",
    "            features.append(num_zero_crossings)\n",
    "            # features.append(mean)\n",
    "            # features.append(std)\n",
    "            features.append(iemg)\n",
    "            # features.append(mav)\n",
    "            features.append(ssi)\n",
    "            # features.append(rms)\n",
    "            # features.append(var)\n",
    "            features.append(mmp)\n",
    "            features.append(wl)\n",
    "            # features.append(damv)\n",
    "            features.append(m2)\n",
    "            features.append(dvarv)\n",
    "            features.append(dasdv)\n",
    "            features.append(wamp)\n",
    "            features.append(iasd)\n",
    "            features.append(iatd)\n",
    "            # features.append(ieav)\n",
    "            # features.append(ialv)\n",
    "            features.append(ie)\n",
    "\n",
    "        features = np.array(features)\n",
    "        return features\n",
    "\n",
    "    def create_feature_matrix(self, windows):\n",
    "        # windows has shape windows x samples x channels\n",
    "        feature_matrix = []\n",
    "        for window in windows:\n",
    "            feature_vector = self.create_feature_vector(window)\n",
    "            feature_matrix.append(feature_vector)\n",
    "\n",
    "        feature_matrix = np.array(feature_matrix)\n",
    "        print(\"Feature matrix shape:\", feature_matrix.shape)\n",
    "        return feature_matrix\n",
    "    \n",
    "    def get_labels(self):\n",
    "        return self.labels\n",
    "\n",
    "    def build_data(self, data_path):\n",
    "        # Load data\n",
    "        windows, labels = self.load_data(data_path)\n",
    "        print(\"Number of labeled samples:\", len(windows))\n",
    "\n",
    "        # Preprocess data\n",
    "        windows = self.preprocess_data(windows)\n",
    "\n",
    "        # Create feature matrix\n",
    "        X = self.create_feature_matrix(windows)\n",
    "\n",
    "        # Get labels\n",
    "        y = labels\n",
    "\n",
    "        return X, y"
   ]
  },
  {
   "cell_type": "code",
   "execution_count": 1325,
   "metadata": {},
   "outputs": [
    {
     "name": "stdout",
     "output_type": "stream",
     "text": [
      "Number of labeled samples: 61\n",
      "Printing some stats!\n",
      "====================\n",
      "Number of samples: 61\n",
      "Number of channels: 5\n",
      "====================\n",
      "\n",
      "Window shape: (667, 5)\n",
      "Window shape: (798, 5)\n",
      "Window shape: (908, 5)\n",
      "Window shape: (759, 5)\n",
      "Window shape: (575, 5)\n",
      "Window shape: (826, 5)\n",
      "Window shape: (748, 5)\n",
      "Window shape: (634, 5)\n",
      "Window shape: (540, 5)\n",
      "Window shape: (781, 5)\n",
      "Window shape: (712, 5)\n",
      "Window shape: (954, 5)\n",
      "Window shape: (717, 5)\n",
      "Window shape: (887, 5)\n",
      "Window shape: (723, 5)\n",
      "Window shape: (788, 5)\n",
      "Window shape: (518, 5)\n",
      "Window shape: (707, 5)\n",
      "Window shape: (1011, 5)\n",
      "Window shape: (719, 5)\n",
      "Window shape: (659, 5)\n",
      "Window shape: (875, 5)\n",
      "Window shape: (555, 5)\n",
      "Window shape: (744, 5)\n",
      "Window shape: (995, 5)\n",
      "Window shape: (650, 5)\n",
      "Window shape: (912, 5)\n",
      "Window shape: (990, 5)\n",
      "Window shape: (603, 5)\n",
      "Window shape: (751, 5)\n",
      "Window shape: (569, 5)\n",
      "Window shape: (536, 5)\n",
      "Window shape: (1021, 5)\n",
      "Window shape: (947, 5)\n",
      "Window shape: (873, 5)\n",
      "Window shape: (710, 5)\n",
      "Window shape: (564, 5)\n",
      "Window shape: (730, 5)\n",
      "Window shape: (862, 5)\n",
      "Window shape: (960, 5)\n",
      "Window shape: (748, 5)\n",
      "Window shape: (518, 5)\n",
      "Window shape: (581, 5)\n",
      "Window shape: (639, 5)\n",
      "Window shape: (1018, 5)\n",
      "Window shape: (778, 5)\n",
      "Window shape: (763, 5)\n",
      "Window shape: (813, 5)\n",
      "Window shape: (626, 5)\n",
      "Window shape: (705, 5)\n",
      "Window shape: (836, 5)\n",
      "Window shape: (887, 5)\n",
      "Window shape: (982, 5)\n",
      "Window shape: (693, 5)\n",
      "Window shape: (897, 5)\n",
      "Window shape: (579, 5)\n",
      "Window shape: (842, 5)\n",
      "Window shape: (888, 5)\n",
      "Window shape: (975, 5)\n",
      "Window shape: (919, 5)\n",
      "Window shape: (623, 5)\n",
      "Feature matrix shape: (61, 75)\n",
      "Printing some stats!\n",
      "====================\n",
      "Number of samples: 61\n",
      "Number of channels: 5\n",
      "====================\n",
      "\n",
      "X shape: (61, 75)\n",
      "y shape: 61\n"
     ]
    },
    {
     "name": "stderr",
     "output_type": "stream",
     "text": [
      "/var/folders/js/fb9kwys10ln8jgq1bxxqg0tr0000gn/T/ipykernel_31015/3809396452.py:53: RuntimeWarning: invalid value encountered in divide\n",
      "  channel = channel / np.std(channel)\n",
      "/var/folders/js/fb9kwys10ln8jgq1bxxqg0tr0000gn/T/ipykernel_31015/3809396452.py:53: RuntimeWarning: divide by zero encountered in divide\n",
      "  channel = channel / np.std(channel)\n"
     ]
    }
   ],
   "source": [
    "npz_file_path = f\"../data_named/{filename}\"\n",
    "\n",
    "data_builder = DataBuilder(sfreq=1000)\n",
    "X, y = data_builder.build_data(data_path=npz_file_path)\n",
    "\n",
    "window_4, label_4 = data_builder.load_window(npz_file_path, 4)\n",
    "\n",
    "print(\"X shape:\", X.shape)\n",
    "print(\"y shape:\", len(y))"
   ]
  },
  {
   "cell_type": "code",
   "execution_count": 1326,
   "metadata": {},
   "outputs": [
    {
     "name": "stderr",
     "output_type": "stream",
     "text": [
      "/Users/bei/anaconda3/envs/ntb/lib/python3.9/site-packages/sklearn/linear_model/_logistic.py:460: ConvergenceWarning: lbfgs failed to converge (status=1):\n",
      "STOP: TOTAL NO. of ITERATIONS REACHED LIMIT.\n",
      "\n",
      "Increase the number of iterations (max_iter) or scale the data as shown in:\n",
      "    https://scikit-learn.org/stable/modules/preprocessing.html\n",
      "Please also refer to the documentation for alternative solver options:\n",
      "    https://scikit-learn.org/stable/modules/linear_model.html#logistic-regression\n",
      "  n_iter_i = _check_optimize_result(\n"
     ]
    },
    {
     "data": {
      "text/html": [
       "<style>#sk-container-id-101 {color: black;}#sk-container-id-101 pre{padding: 0;}#sk-container-id-101 div.sk-toggleable {background-color: white;}#sk-container-id-101 label.sk-toggleable__label {cursor: pointer;display: block;width: 100%;margin-bottom: 0;padding: 0.3em;box-sizing: border-box;text-align: center;}#sk-container-id-101 label.sk-toggleable__label-arrow:before {content: \"▸\";float: left;margin-right: 0.25em;color: #696969;}#sk-container-id-101 label.sk-toggleable__label-arrow:hover:before {color: black;}#sk-container-id-101 div.sk-estimator:hover label.sk-toggleable__label-arrow:before {color: black;}#sk-container-id-101 div.sk-toggleable__content {max-height: 0;max-width: 0;overflow: hidden;text-align: left;background-color: #f0f8ff;}#sk-container-id-101 div.sk-toggleable__content pre {margin: 0.2em;color: black;border-radius: 0.25em;background-color: #f0f8ff;}#sk-container-id-101 input.sk-toggleable__control:checked~div.sk-toggleable__content {max-height: 200px;max-width: 100%;overflow: auto;}#sk-container-id-101 input.sk-toggleable__control:checked~label.sk-toggleable__label-arrow:before {content: \"▾\";}#sk-container-id-101 div.sk-estimator input.sk-toggleable__control:checked~label.sk-toggleable__label {background-color: #d4ebff;}#sk-container-id-101 div.sk-label input.sk-toggleable__control:checked~label.sk-toggleable__label {background-color: #d4ebff;}#sk-container-id-101 input.sk-hidden--visually {border: 0;clip: rect(1px 1px 1px 1px);clip: rect(1px, 1px, 1px, 1px);height: 1px;margin: -1px;overflow: hidden;padding: 0;position: absolute;width: 1px;}#sk-container-id-101 div.sk-estimator {font-family: monospace;background-color: #f0f8ff;border: 1px dotted black;border-radius: 0.25em;box-sizing: border-box;margin-bottom: 0.5em;}#sk-container-id-101 div.sk-estimator:hover {background-color: #d4ebff;}#sk-container-id-101 div.sk-parallel-item::after {content: \"\";width: 100%;border-bottom: 1px solid gray;flex-grow: 1;}#sk-container-id-101 div.sk-label:hover label.sk-toggleable__label {background-color: #d4ebff;}#sk-container-id-101 div.sk-serial::before {content: \"\";position: absolute;border-left: 1px solid gray;box-sizing: border-box;top: 0;bottom: 0;left: 50%;z-index: 0;}#sk-container-id-101 div.sk-serial {display: flex;flex-direction: column;align-items: center;background-color: white;padding-right: 0.2em;padding-left: 0.2em;position: relative;}#sk-container-id-101 div.sk-item {position: relative;z-index: 1;}#sk-container-id-101 div.sk-parallel {display: flex;align-items: stretch;justify-content: center;background-color: white;position: relative;}#sk-container-id-101 div.sk-item::before, #sk-container-id-101 div.sk-parallel-item::before {content: \"\";position: absolute;border-left: 1px solid gray;box-sizing: border-box;top: 0;bottom: 0;left: 50%;z-index: -1;}#sk-container-id-101 div.sk-parallel-item {display: flex;flex-direction: column;z-index: 1;position: relative;background-color: white;}#sk-container-id-101 div.sk-parallel-item:first-child::after {align-self: flex-end;width: 50%;}#sk-container-id-101 div.sk-parallel-item:last-child::after {align-self: flex-start;width: 50%;}#sk-container-id-101 div.sk-parallel-item:only-child::after {width: 0;}#sk-container-id-101 div.sk-dashed-wrapped {border: 1px dashed gray;margin: 0 0.4em 0.5em 0.4em;box-sizing: border-box;padding-bottom: 0.4em;background-color: white;}#sk-container-id-101 div.sk-label label {font-family: monospace;font-weight: bold;display: inline-block;line-height: 1.2em;}#sk-container-id-101 div.sk-label-container {text-align: center;}#sk-container-id-101 div.sk-container {/* jupyter's `normalize.less` sets `[hidden] { display: none; }` but bootstrap.min.css set `[hidden] { display: none !important; }` so we also need the `!important` here to be able to override the default hidden behavior on the sphinx rendered scikit-learn.org. See: https://github.com/scikit-learn/scikit-learn/issues/21755 */display: inline-block !important;position: relative;}#sk-container-id-101 div.sk-text-repr-fallback {display: none;}</style><div id=\"sk-container-id-101\" class=\"sk-top-container\"><div class=\"sk-text-repr-fallback\"><pre>LogisticRegression()</pre><b>In a Jupyter environment, please rerun this cell to show the HTML representation or trust the notebook. <br />On GitHub, the HTML representation is unable to render, please try loading this page with nbviewer.org.</b></div><div class=\"sk-container\" hidden><div class=\"sk-item\"><div class=\"sk-estimator sk-toggleable\"><input class=\"sk-toggleable__control sk-hidden--visually\" id=\"sk-estimator-id-101\" type=\"checkbox\" checked><label for=\"sk-estimator-id-101\" class=\"sk-toggleable__label sk-toggleable__label-arrow\">LogisticRegression</label><div class=\"sk-toggleable__content\"><pre>LogisticRegression()</pre></div></div></div></div></div>"
      ],
      "text/plain": [
       "LogisticRegression()"
      ]
     },
     "execution_count": 1326,
     "metadata": {},
     "output_type": "execute_result"
    }
   ],
   "source": [
    "from sklearn.model_selection import train_test_split\n",
    "from sklearn.ensemble import RandomForestClassifier\n",
    "from sklearn.metrics import accuracy_score, classification_report\n",
    "\n",
    "# linear classifier\n",
    "from sklearn.linear_model import LogisticRegression\n",
    "\n",
    "X_train, X_test, y_train, y_test = train_test_split(X, y, test_size=0.4, random_state=42)\n",
    "# drop nans in X_test\n",
    "y_test = np.array(y_test)\n",
    "y_test = y_test[~np.isnan(X_test).any(axis=1)]\n",
    "X_test = X_test[~np.isnan(X_test).any(axis=1)]\n",
    "y_train = np.array(y_train)\n",
    "y_train = y_train[~np.isnan(X_train).any(axis=1)]\n",
    "X_train = X_train[~np.isnan(X_train).any(axis=1)]\n",
    "\n",
    "model = LogisticRegression()\n",
    "model.fit(X_train, y_train)"
   ]
  },
  {
   "cell_type": "code",
   "execution_count": 1327,
   "metadata": {},
   "outputs": [],
   "source": [
    "# # save model\n",
    "# import pickle\n",
    "# pickle.dump(model, open(\"model.pkl\", \"wb\"))\n",
    "\n",
    "# # load model\n",
    "# model = pickle.load(open(\"model.pkl\", \"rb\"))"
   ]
  },
  {
   "cell_type": "code",
   "execution_count": 1328,
   "metadata": {},
   "outputs": [
    {
     "name": "stdout",
     "output_type": "stream",
     "text": [
      "Accuracy: 0.48\n",
      "                 precision    recall  f1-score   support\n",
      "\n",
      "     double-tap       0.60      0.75      0.67         4\n",
      "           rest       0.33      0.40      0.36         5\n",
      "            tap       0.67      0.33      0.44         6\n",
      " thumb-to-index       0.25      0.50      0.33         2\n",
      "thumb-to-middle       0.00      0.00      0.00         1\n",
      " thumb-to-pinky       1.00      0.50      0.67         2\n",
      "  thumb-to-ring       1.00      1.00      1.00         1\n",
      "\n",
      "       accuracy                           0.48        21\n",
      "      macro avg       0.55      0.50      0.50        21\n",
      "   weighted avg       0.55      0.48      0.48        21\n",
      "\n"
     ]
    }
   ],
   "source": [
    "y_pred = model.predict(X_test)\n",
    "\n",
    "# Evaluate the model\n",
    "accuracy = accuracy_score(y_test, y_pred)\n",
    "print(f'Accuracy: {accuracy:.2f}')\n",
    "\n",
    "# Additional metrics\n",
    "print(classification_report(y_test, y_pred))"
   ]
  },
  {
   "cell_type": "code",
   "execution_count": 1329,
   "metadata": {},
   "outputs": [
    {
     "name": "stdout",
     "output_type": "stream",
     "text": [
      "Window shape: (575, 5)\n",
      "Feature vector shape: (1, 75)\n",
      "Prediction: ['thumb-to-middle']\n",
      "Actual: double-tap\n"
     ]
    }
   ],
   "source": [
    "def run_inference(window, model):\n",
    "    feature_vector = data_builder.create_feature_vector(window)\n",
    "    feature_vector = np.array([feature_vector])\n",
    "    print(\"Feature vector shape:\", feature_vector.shape)\n",
    "    prediction = model.predict(feature_vector)\n",
    "    return prediction\n",
    "\n",
    "prediction = run_inference(window_4, model)\n",
    "print(\"Prediction:\", prediction)\n",
    "print(\"Actual:\", label_4)"
   ]
  },
  {
   "cell_type": "markdown",
   "metadata": {},
   "source": [
    "## QDA"
   ]
  },
  {
   "cell_type": "code",
   "execution_count": 1330,
   "metadata": {},
   "outputs": [
    {
     "name": "stderr",
     "output_type": "stream",
     "text": [
      "/Users/bei/anaconda3/envs/ntb/lib/python3.9/site-packages/sklearn/discriminant_analysis.py:935: UserWarning: Variables are collinear\n",
      "  warnings.warn(\"Variables are collinear\")\n"
     ]
    }
   ],
   "source": [
    "from sklearn.discriminant_analysis import QuadraticDiscriminantAnalysis\n",
    "qda = QuadraticDiscriminantAnalysis(tol=1e-1)\n",
    "qda.fit(X_train, y_train)\n",
    "y_pred = qda.predict(X_test)"
   ]
  },
  {
   "cell_type": "code",
   "execution_count": 1331,
   "metadata": {},
   "outputs": [
    {
     "name": "stdout",
     "output_type": "stream",
     "text": [
      "                 precision    recall  f1-score   support\n",
      "\n",
      "     double-tap       0.00      0.00      0.00         4\n",
      "           rest       0.00      0.00      0.00         5\n",
      "            tap       0.00      0.00      0.00         6\n",
      " thumb-to-index       0.00      0.00      0.00         2\n",
      "thumb-to-middle       0.00      0.00      0.00         1\n",
      " thumb-to-pinky       0.00      0.00      0.00         2\n",
      "  thumb-to-ring       0.05      1.00      0.10         1\n",
      "\n",
      "       accuracy                           0.05        21\n",
      "      macro avg       0.01      0.14      0.01        21\n",
      "   weighted avg       0.00      0.05      0.00        21\n",
      "\n",
      "Accuracy: 0.047619047619047616\n"
     ]
    },
    {
     "name": "stderr",
     "output_type": "stream",
     "text": [
      "/Users/bei/anaconda3/envs/ntb/lib/python3.9/site-packages/sklearn/metrics/_classification.py:1471: UndefinedMetricWarning: Precision and F-score are ill-defined and being set to 0.0 in labels with no predicted samples. Use `zero_division` parameter to control this behavior.\n",
      "  _warn_prf(average, modifier, msg_start, len(result))\n",
      "/Users/bei/anaconda3/envs/ntb/lib/python3.9/site-packages/sklearn/metrics/_classification.py:1471: UndefinedMetricWarning: Precision and F-score are ill-defined and being set to 0.0 in labels with no predicted samples. Use `zero_division` parameter to control this behavior.\n",
      "  _warn_prf(average, modifier, msg_start, len(result))\n",
      "/Users/bei/anaconda3/envs/ntb/lib/python3.9/site-packages/sklearn/metrics/_classification.py:1471: UndefinedMetricWarning: Precision and F-score are ill-defined and being set to 0.0 in labels with no predicted samples. Use `zero_division` parameter to control this behavior.\n",
      "  _warn_prf(average, modifier, msg_start, len(result))\n"
     ]
    }
   ],
   "source": [
    "print(classification_report(y_test, y_pred))\n",
    "print(\"Accuracy:\", accuracy_score(y_test, y_pred))"
   ]
  },
  {
   "cell_type": "markdown",
   "metadata": {},
   "source": [
    "### LDA"
   ]
  },
  {
   "cell_type": "code",
   "execution_count": 1332,
   "metadata": {},
   "outputs": [
    {
     "data": {
      "text/plain": [
       "array([[1.22915698e+01, 3.36131018e+00, 3.81000000e+02, ...,\n",
       "        1.16278368e+02, 2.19105678e+02, 1.19959979e+03],\n",
       "       [5.40031015e-02, 1.26585883e+00, 2.53000000e+02, ...,\n",
       "        1.33516804e+01, 2.14848767e+01, 1.02915391e+03],\n",
       "       [1.06035110e+01, 3.13738678e+00, 4.21000000e+02, ...,\n",
       "        3.31638131e+02, 6.29533591e+02, 1.23923170e+03],\n",
       "       ...,\n",
       "       [2.40963477e+00, 1.85351370e+00, 2.10000000e+02, ...,\n",
       "        2.75224403e+02, 4.94240084e+02, 1.45970181e+03],\n",
       "       [1.95421902e+01, 4.12082417e+00, 3.85000000e+02, ...,\n",
       "        2.41191705e+02, 4.72315517e+02, 9.55941172e+02],\n",
       "       [8.26536225e+00, 2.78756524e+00, 3.58000000e+02, ...,\n",
       "        2.10139934e+02, 4.02144584e+02, 1.34298154e+03]])"
      ]
     },
     "execution_count": 1332,
     "metadata": {},
     "output_type": "execute_result"
    }
   ],
   "source": [
    "X_train"
   ]
  },
  {
   "cell_type": "code",
   "execution_count": 1333,
   "metadata": {},
   "outputs": [],
   "source": [
    "# lda\n",
    "from sklearn.discriminant_analysis import LinearDiscriminantAnalysis\n",
    "lda = LinearDiscriminantAnalysis(solver='lsqr')\n",
    "lda.fit(X_train, y_train)\n",
    "y_pred = lda.predict(X_test)"
   ]
  },
  {
   "cell_type": "code",
   "execution_count": 1334,
   "metadata": {},
   "outputs": [
    {
     "name": "stdout",
     "output_type": "stream",
     "text": [
      "                 precision    recall  f1-score   support\n",
      "\n",
      "     double-tap       1.00      0.75      0.86         4\n",
      "           rest       0.57      0.80      0.67         5\n",
      "            tap       1.00      0.33      0.50         6\n",
      " thumb-to-index       0.50      1.00      0.67         2\n",
      "thumb-to-middle       0.00      0.00      0.00         1\n",
      " thumb-to-pinky       0.50      0.50      0.50         2\n",
      "  thumb-to-ring       1.00      1.00      1.00         1\n",
      "\n",
      "       accuracy                           0.62        21\n",
      "      macro avg       0.65      0.63      0.60        21\n",
      "   weighted avg       0.76      0.62      0.62        21\n",
      "\n",
      "Accuracy: 0.6190476190476191\n"
     ]
    }
   ],
   "source": [
    "print(classification_report(y_test, y_pred))\n",
    "print(\"Accuracy:\", accuracy_score(y_test, y_pred))"
   ]
  },
  {
   "cell_type": "code",
   "execution_count": 1351,
   "metadata": {},
   "outputs": [
    {
     "data": {
      "image/png": "[encoded data removed]",
      "text/plain": [
       "<Figure size 640x480 with 2 Axes>"
      ]
     },
     "metadata": {},
     "output_type": "display_data"
    }
   ],
   "source": [
    "# confusion matrix for y_test and y_pred\n",
    "from sklearn.metrics import confusion_matrix\n",
    "import seaborn as sns\n",
    "import matplotlib.pyplot as plt\n",
    "\n",
    "cm = confusion_matrix(y_test, y_pred)\n",
    "sns.heatmap(cm, annot=True, fmt=\"d\")\n",
    "plt.show()"
   ]
  },
  {
   "cell_type": "code",
   "execution_count": 1350,
   "metadata": {},
   "outputs": [
    {
     "data": {
      "text/plain": [
       "array(['tap', 'tap', 'thumb-to-index', 'double-tap', 'tap',\n",
       "       'thumb-to-index', 'tap', 'thumb-to-index'], dtype='<U15')"
      ]
     },
     "execution_count": 1350,
     "metadata": {},
     "output_type": "execute_result"
    }
   ],
   "source": [
    "y_pred"
   ]
  },
  {
   "cell_type": "code",
   "execution_count": 1352,
   "metadata": {},
   "outputs": [
    {
     "data": {
      "text/plain": [
       "array(['thumb-to-ring', 'tap', 'thumb-to-index', 'thumb-to-middle', 'tap',\n",
       "       'thumb-to-index', 'tap', 'double-tap'], dtype='<U15')"
      ]
     },
     "execution_count": 1352,
     "metadata": {},
     "output_type": "execute_result"
    }
   ],
   "source": [
    "y_test"
   ]
  },
  {
   "cell_type": "markdown",
   "metadata": {},
   "source": [
    "### Remap to classify only thumb-related movements and tap-related movements"
   ]
  },
  {
   "cell_type": "code",
   "execution_count": 1335,
   "metadata": {},
   "outputs": [
    {
     "data": {
      "text/plain": [
       "array(['thumb-to-index', 'thumb-to-middle', 'thumb-to-ring',\n",
       "       'thumb-to-pinky', 'double-tap', 'tap', 'rest', 'thumb-to-index',\n",
       "       'thumb-to-middle', 'thumb-to-ring', 'thumb-to-pinky', 'double-tap',\n",
       "       'tap', 'rest', 'thumb-to-index', 'thumb-to-middle',\n",
       "       'thumb-to-ring', 'thumb-to-pinky', 'double-tap', 'tap', 'rest',\n",
       "       'thumb-to-index', 'thumb-to-middle', 'thumb-to-ring',\n",
       "       'thumb-to-pinky', 'double-tap', 'tap', 'rest', 'thumb-to-index',\n",
       "       'thumb-to-middle', 'thumb-to-ring', 'thumb-to-pinky', 'double-tap',\n",
       "       'tap', 'rest', 'thumb-to-index', 'thumb-to-middle',\n",
       "       'thumb-to-ring', 'thumb-to-pinky', 'double-tap', 'tap', 'rest',\n",
       "       'thumb-to-index', 'thumb-to-middle', 'thumb-to-ring',\n",
       "       'thumb-to-pinky', 'double-tap', 'tap', 'rest', 'thumb-to-index',\n",
       "       'thumb-to-middle', 'thumb-to-ring', 'thumb-to-pinky', 'double-tap',\n",
       "       'tap', 'rest', 'thumb-to-index', 'thumb-to-middle',\n",
       "       'thumb-to-ring', 'thumb-to-pinky', 'double-tap'], dtype='<U15')"
      ]
     },
     "execution_count": 1335,
     "metadata": {},
     "output_type": "execute_result"
    }
   ],
   "source": [
    "y_remap = np.array(y)\n",
    "y_remap"
   ]
  },
  {
   "cell_type": "code",
   "execution_count": 1336,
   "metadata": {},
   "outputs": [],
   "source": [
    "# y_remap = []\n",
    "# for label in y:\n",
    "#     if label == \"thumb-to-index\" or label == \"thumb-to-middle\" or label == \"thumb-to-ring\" or label == \"thumb-to-pinky\":\n",
    "#         y_remap.append(\"thumb\")\n",
    "#     if label == \"tap\" or label == \"double-tap\":\n",
    "#         y_remap.append(\"tapping\")\n",
    "#     if label == \"rest\":\n",
    "#         y_remap.append(\"rest\")\n",
    "# y_remap = np.array(y_remap)\n",
    "# y_remap"
   ]
  },
  {
   "cell_type": "code",
   "execution_count": 1337,
   "metadata": {},
   "outputs": [
    {
     "data": {
      "text/plain": [
       "array([ True,  True,  True,  True,  True,  True, False,  True,  True,\n",
       "        True,  True,  True,  True, False,  True,  True,  True,  True,\n",
       "        True,  True, False,  True,  True,  True,  True,  True,  True,\n",
       "       False,  True,  True,  True,  True,  True,  True, False,  True,\n",
       "        True,  True,  True,  True,  True, False,  True,  True,  True,\n",
       "        True,  True,  True, False,  True,  True,  True,  True,  True,\n",
       "        True, False,  True,  True,  True,  True,  True])"
      ]
     },
     "execution_count": 1337,
     "metadata": {},
     "output_type": "execute_result"
    }
   ],
   "source": [
    "y_remap != \"rest\""
   ]
  },
  {
   "cell_type": "code",
   "execution_count": 1338,
   "metadata": {},
   "outputs": [],
   "source": [
    "idx = (y_remap != \"rest\") * (y_remap != \"thumb-to-pinky\")\n",
    "X_remap = X[idx]\n",
    "y_remap = y_remap[idx]"
   ]
  },
  {
   "cell_type": "code",
   "execution_count": 1339,
   "metadata": {},
   "outputs": [
    {
     "data": {
      "text/plain": [
       "(44, 75)"
      ]
     },
     "execution_count": 1339,
     "metadata": {},
     "output_type": "execute_result"
    }
   ],
   "source": [
    "X_remap.shape"
   ]
  },
  {
   "cell_type": "code",
   "execution_count": 1340,
   "metadata": {},
   "outputs": [
    {
     "data": {
      "text/plain": [
       "(44,)"
      ]
     },
     "execution_count": 1340,
     "metadata": {},
     "output_type": "execute_result"
    }
   ],
   "source": [
    "y_remap.shape"
   ]
  },
  {
   "cell_type": "code",
   "execution_count": 1341,
   "metadata": {},
   "outputs": [
    {
     "name": "stderr",
     "output_type": "stream",
     "text": [
      "/Users/bei/anaconda3/envs/ntb/lib/python3.9/site-packages/sklearn/linear_model/_logistic.py:460: ConvergenceWarning: lbfgs failed to converge (status=1):\n",
      "STOP: TOTAL NO. of ITERATIONS REACHED LIMIT.\n",
      "\n",
      "Increase the number of iterations (max_iter) or scale the data as shown in:\n",
      "    https://scikit-learn.org/stable/modules/preprocessing.html\n",
      "Please also refer to the documentation for alternative solver options:\n",
      "    https://scikit-learn.org/stable/modules/linear_model.html#logistic-regression\n",
      "  n_iter_i = _check_optimize_result(\n"
     ]
    },
    {
     "data": {
      "text/html": [
       "<style>#sk-container-id-102 {color: black;}#sk-container-id-102 pre{padding: 0;}#sk-container-id-102 div.sk-toggleable {background-color: white;}#sk-container-id-102 label.sk-toggleable__label {cursor: pointer;display: block;width: 100%;margin-bottom: 0;padding: 0.3em;box-sizing: border-box;text-align: center;}#sk-container-id-102 label.sk-toggleable__label-arrow:before {content: \"▸\";float: left;margin-right: 0.25em;color: #696969;}#sk-container-id-102 label.sk-toggleable__label-arrow:hover:before {color: black;}#sk-container-id-102 div.sk-estimator:hover label.sk-toggleable__label-arrow:before {color: black;}#sk-container-id-102 div.sk-toggleable__content {max-height: 0;max-width: 0;overflow: hidden;text-align: left;background-color: #f0f8ff;}#sk-container-id-102 div.sk-toggleable__content pre {margin: 0.2em;color: black;border-radius: 0.25em;background-color: #f0f8ff;}#sk-container-id-102 input.sk-toggleable__control:checked~div.sk-toggleable__content {max-height: 200px;max-width: 100%;overflow: auto;}#sk-container-id-102 input.sk-toggleable__control:checked~label.sk-toggleable__label-arrow:before {content: \"▾\";}#sk-container-id-102 div.sk-estimator input.sk-toggleable__control:checked~label.sk-toggleable__label {background-color: #d4ebff;}#sk-container-id-102 div.sk-label input.sk-toggleable__control:checked~label.sk-toggleable__label {background-color: #d4ebff;}#sk-container-id-102 input.sk-hidden--visually {border: 0;clip: rect(1px 1px 1px 1px);clip: rect(1px, 1px, 1px, 1px);height: 1px;margin: -1px;overflow: hidden;padding: 0;position: absolute;width: 1px;}#sk-container-id-102 div.sk-estimator {font-family: monospace;background-color: #f0f8ff;border: 1px dotted black;border-radius: 0.25em;box-sizing: border-box;margin-bottom: 0.5em;}#sk-container-id-102 div.sk-estimator:hover {background-color: #d4ebff;}#sk-container-id-102 div.sk-parallel-item::after {content: \"\";width: 100%;border-bottom: 1px solid gray;flex-grow: 1;}#sk-container-id-102 div.sk-label:hover label.sk-toggleable__label {background-color: #d4ebff;}#sk-container-id-102 div.sk-serial::before {content: \"\";position: absolute;border-left: 1px solid gray;box-sizing: border-box;top: 0;bottom: 0;left: 50%;z-index: 0;}#sk-container-id-102 div.sk-serial {display: flex;flex-direction: column;align-items: center;background-color: white;padding-right: 0.2em;padding-left: 0.2em;position: relative;}#sk-container-id-102 div.sk-item {position: relative;z-index: 1;}#sk-container-id-102 div.sk-parallel {display: flex;align-items: stretch;justify-content: center;background-color: white;position: relative;}#sk-container-id-102 div.sk-item::before, #sk-container-id-102 div.sk-parallel-item::before {content: \"\";position: absolute;border-left: 1px solid gray;box-sizing: border-box;top: 0;bottom: 0;left: 50%;z-index: -1;}#sk-container-id-102 div.sk-parallel-item {display: flex;flex-direction: column;z-index: 1;position: relative;background-color: white;}#sk-container-id-102 div.sk-parallel-item:first-child::after {align-self: flex-end;width: 50%;}#sk-container-id-102 div.sk-parallel-item:last-child::after {align-self: flex-start;width: 50%;}#sk-container-id-102 div.sk-parallel-item:only-child::after {width: 0;}#sk-container-id-102 div.sk-dashed-wrapped {border: 1px dashed gray;margin: 0 0.4em 0.5em 0.4em;box-sizing: border-box;padding-bottom: 0.4em;background-color: white;}#sk-container-id-102 div.sk-label label {font-family: monospace;font-weight: bold;display: inline-block;line-height: 1.2em;}#sk-container-id-102 div.sk-label-container {text-align: center;}#sk-container-id-102 div.sk-container {/* jupyter's `normalize.less` sets `[hidden] { display: none; }` but bootstrap.min.css set `[hidden] { display: none !important; }` so we also need the `!important` here to be able to override the default hidden behavior on the sphinx rendered scikit-learn.org. See: https://github.com/scikit-learn/scikit-learn/issues/21755 */display: inline-block !important;position: relative;}#sk-container-id-102 div.sk-text-repr-fallback {display: none;}</style><div id=\"sk-container-id-102\" class=\"sk-top-container\"><div class=\"sk-text-repr-fallback\"><pre>LogisticRegression()</pre><b>In a Jupyter environment, please rerun this cell to show the HTML representation or trust the notebook. <br />On GitHub, the HTML representation is unable to render, please try loading this page with nbviewer.org.</b></div><div class=\"sk-container\" hidden><div class=\"sk-item\"><div class=\"sk-estimator sk-toggleable\"><input class=\"sk-toggleable__control sk-hidden--visually\" id=\"sk-estimator-id-102\" type=\"checkbox\" checked><label for=\"sk-estimator-id-102\" class=\"sk-toggleable__label sk-toggleable__label-arrow\">LogisticRegression</label><div class=\"sk-toggleable__content\"><pre>LogisticRegression()</pre></div></div></div></div></div>"
      ],
      "text/plain": [
       "LogisticRegression()"
      ]
     },
     "execution_count": 1341,
     "metadata": {},
     "output_type": "execute_result"
    }
   ],
   "source": [
    "from sklearn.model_selection import train_test_split\n",
    "from sklearn.ensemble import RandomForestClassifier\n",
    "from sklearn.metrics import accuracy_score, classification_report\n",
    "\n",
    "# linear classifier\n",
    "from sklearn.linear_model import LogisticRegression\n",
    "\n",
    "X_train, X_test, y_train, y_test = train_test_split(X_remap, y_remap, test_size=0.2, random_state=42)\n",
    "# drop nans in X_test\n",
    "y_test = np.array(y_test)\n",
    "y_test = y_test[~np.isnan(X_test).any(axis=1)]\n",
    "X_test = X_test[~np.isnan(X_test).any(axis=1)]\n",
    "y_train = np.array(y_train)\n",
    "y_train = y_train[~np.isnan(X_train).any(axis=1)]\n",
    "X_train = X_train[~np.isnan(X_train).any(axis=1)]\n",
    "\n",
    "model = LogisticRegression()\n",
    "model.fit(X_train, y_train)"
   ]
  },
  {
   "cell_type": "code",
   "execution_count": 1342,
   "metadata": {},
   "outputs": [
    {
     "name": "stdout",
     "output_type": "stream",
     "text": [
      "Accuracy: 0.75\n",
      "                 precision    recall  f1-score   support\n",
      "\n",
      "     double-tap       0.50      1.00      0.67         1\n",
      "            tap       1.00      1.00      1.00         3\n",
      " thumb-to-index       1.00      0.50      0.67         2\n",
      "thumb-to-middle       0.00      0.00      0.00         1\n",
      "  thumb-to-ring       0.50      1.00      0.67         1\n",
      "\n",
      "       accuracy                           0.75         8\n",
      "      macro avg       0.60      0.70      0.60         8\n",
      "   weighted avg       0.75      0.75      0.71         8\n",
      "\n"
     ]
    },
    {
     "name": "stderr",
     "output_type": "stream",
     "text": [
      "/Users/bei/anaconda3/envs/ntb/lib/python3.9/site-packages/sklearn/metrics/_classification.py:1471: UndefinedMetricWarning: Precision and F-score are ill-defined and being set to 0.0 in labels with no predicted samples. Use `zero_division` parameter to control this behavior.\n",
      "  _warn_prf(average, modifier, msg_start, len(result))\n",
      "/Users/bei/anaconda3/envs/ntb/lib/python3.9/site-packages/sklearn/metrics/_classification.py:1471: UndefinedMetricWarning: Precision and F-score are ill-defined and being set to 0.0 in labels with no predicted samples. Use `zero_division` parameter to control this behavior.\n",
      "  _warn_prf(average, modifier, msg_start, len(result))\n",
      "/Users/bei/anaconda3/envs/ntb/lib/python3.9/site-packages/sklearn/metrics/_classification.py:1471: UndefinedMetricWarning: Precision and F-score are ill-defined and being set to 0.0 in labels with no predicted samples. Use `zero_division` parameter to control this behavior.\n",
      "  _warn_prf(average, modifier, msg_start, len(result))\n"
     ]
    }
   ],
   "source": [
    "y_pred = model.predict(X_test)\n",
    "\n",
    "# Evaluate the model\n",
    "accuracy = accuracy_score(y_test, y_pred)\n",
    "print(f'Accuracy: {accuracy:.2f}')\n",
    "\n",
    "# Additional metrics\n",
    "print(classification_report(y_test, y_pred))"
   ]
  },
  {
   "cell_type": "code",
   "execution_count": 1343,
   "metadata": {},
   "outputs": [
    {
     "data": {
      "text/plain": [
       "array(['thumb-to-ring', 'tap', 'thumb-to-index', 'thumb-to-ring', 'tap',\n",
       "       'double-tap', 'tap', 'double-tap'], dtype='<U15')"
      ]
     },
     "execution_count": 1343,
     "metadata": {},
     "output_type": "execute_result"
    }
   ],
   "source": [
    "y_pred"
   ]
  },
  {
   "cell_type": "code",
   "execution_count": 1344,
   "metadata": {},
   "outputs": [
    {
     "data": {
      "text/plain": [
       "array(['thumb-to-ring', 'tap', 'thumb-to-index', 'thumb-to-middle', 'tap',\n",
       "       'thumb-to-index', 'tap', 'double-tap'], dtype='<U15')"
      ]
     },
     "execution_count": 1344,
     "metadata": {},
     "output_type": "execute_result"
    }
   ],
   "source": [
    "y_test"
   ]
  },
  {
   "cell_type": "code",
   "execution_count": 1345,
   "metadata": {},
   "outputs": [],
   "source": [
    "from sklearn.svm import SVC\n",
    "from sklearn.preprocessing import StandardScaler"
   ]
  },
  {
   "cell_type": "code",
   "execution_count": 1346,
   "metadata": {},
   "outputs": [],
   "source": [
    "sc = StandardScaler()\n",
    "X_train = sc.fit_transform(X_train)\n",
    "X_test = sc.transform(X_test)"
   ]
  },
  {
   "cell_type": "code",
   "execution_count": 1347,
   "metadata": {},
   "outputs": [],
   "source": [
    "svm = SVC(kernel='linear', random_state=42)\n",
    "svm.fit(X_train, y_train)\n",
    "y_pred = svm.predict(X_test)"
   ]
  },
  {
   "cell_type": "code",
   "execution_count": 1348,
   "metadata": {},
   "outputs": [
    {
     "name": "stdout",
     "output_type": "stream",
     "text": [
      "                 precision    recall  f1-score   support\n",
      "\n",
      "     double-tap       0.00      0.00      0.00         1\n",
      "            tap       0.75      1.00      0.86         3\n",
      " thumb-to-index       0.67      1.00      0.80         2\n",
      "thumb-to-middle       0.00      0.00      0.00         1\n",
      "  thumb-to-ring       0.00      0.00      0.00         1\n",
      "\n",
      "       accuracy                           0.62         8\n",
      "      macro avg       0.28      0.40      0.33         8\n",
      "   weighted avg       0.45      0.62      0.52         8\n",
      "\n",
      "Accuracy: 0.625\n"
     ]
    },
    {
     "name": "stderr",
     "output_type": "stream",
     "text": [
      "/Users/bei/anaconda3/envs/ntb/lib/python3.9/site-packages/sklearn/metrics/_classification.py:1471: UndefinedMetricWarning: Precision and F-score are ill-defined and being set to 0.0 in labels with no predicted samples. Use `zero_division` parameter to control this behavior.\n",
      "  _warn_prf(average, modifier, msg_start, len(result))\n",
      "/Users/bei/anaconda3/envs/ntb/lib/python3.9/site-packages/sklearn/metrics/_classification.py:1471: UndefinedMetricWarning: Precision and F-score are ill-defined and being set to 0.0 in labels with no predicted samples. Use `zero_division` parameter to control this behavior.\n",
      "  _warn_prf(average, modifier, msg_start, len(result))\n",
      "/Users/bei/anaconda3/envs/ntb/lib/python3.9/site-packages/sklearn/metrics/_classification.py:1471: UndefinedMetricWarning: Precision and F-score are ill-defined and being set to 0.0 in labels with no predicted samples. Use `zero_division` parameter to control this behavior.\n",
      "  _warn_prf(average, modifier, msg_start, len(result))\n"
     ]
    }
   ],
   "source": [
    "print(classification_report(y_test, y_pred))\n",
    "print(\"Accuracy:\", accuracy_score(y_test, y_pred))"
   ]
  }
 ],
 "metadata": {
  "kernelspec": {
   "display_name": "venv",
   "language": "python",
   "name": "python3"
  },
  "language_info": {
   "codemirror_mode": {
    "name": "ipython",
    "version": 3
   },
   "file_extension": ".py",
   "mimetype": "text/x-python",
   "name": "python",
   "nbconvert_exporter": "python",
   "pygments_lexer": "ipython3",
   "version": "3.9.18"
  }
 },
 "nbformat": 4,
 "nbformat_minor": 2
}
